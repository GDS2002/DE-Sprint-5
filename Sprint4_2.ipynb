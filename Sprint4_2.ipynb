{
  "nbformat": 4,
  "nbformat_minor": 0,
  "metadata": {
    "colab": {
      "provenance": [],
      "authorship_tag": "ABX9TyPDvyQ0aAnz6ABTvWH5e0P3",
      "include_colab_link": true
    },
    "kernelspec": {
      "name": "python3",
      "display_name": "Python 3"
    },
    "language_info": {
      "name": "python"
    }
  },
  "cells": [
    {
      "cell_type": "markdown",
      "metadata": {
        "id": "view-in-github",
        "colab_type": "text"
      },
      "source": [
        "<a href=\"https://colab.research.google.com/github/GDS2002/DE-Sprint-5/blob/main/Sprint4_2.ipynb\" target=\"_parent\"><img src=\"https://colab.research.google.com/assets/colab-badge.svg\" alt=\"Open In Colab\"/></a>"
      ]
    },
    {
      "cell_type": "code",
      "execution_count": 8,
      "metadata": {
        "id": "oG-Fh5LU3ltK"
      },
      "outputs": [],
      "source": [
        "import pandas as pd\n",
        "import numpy as np\n",
        "\n",
        "import matplotlib.pyplot as plt\n",
        "import seaborn as sns\n",
        "\n",
        "from sklearn.model_selection import RandomizedSearchCV, train_test_split\n",
        "from sklearn.linear_model import LogisticRegression\n",
        "from sklearn.feature_selection import mutual_info_classif\n",
        "from sklearn.manifold import TSNE\n",
        "from sklearn.decomposition import PCA\n",
        "from sklearn.ensemble import RandomForestClassifier\n",
        "from sklearn.tree import DecisionTreeClassifier\n",
        "\n",
        "from sklearn.preprocessing import OneHotEncoder, StandardScaler\n",
        "\n",
        "from sklearn.metrics import classification_report, f1_score, accuracy_score, roc_auc_score"
      ]
    },
    {
      "cell_type": "code",
      "source": [
        "df_train = pd.read_csv('./data/application_data.csv')"
      ],
      "metadata": {
        "id": "j8ESdOTJ3n2g"
      },
      "execution_count": 9,
      "outputs": []
    },
    {
      "cell_type": "code",
      "source": [
        "df_train = df_train.sample(100_000)"
      ],
      "metadata": {
        "id": "XTSyd2h53n45"
      },
      "execution_count": 10,
      "outputs": []
    },
    {
      "cell_type": "code",
      "source": [
        "df_train.info()"
      ],
      "metadata": {
        "colab": {
          "base_uri": "https://localhost:8080/"
        },
        "id": "72PfkUu83n7Y",
        "outputId": "86386562-e47a-493e-e6ce-b1a7379d7e45"
      },
      "execution_count": 11,
      "outputs": [
        {
          "output_type": "stream",
          "name": "stdout",
          "text": [
            "<class 'pandas.core.frame.DataFrame'>\n",
            "Int64Index: 100000 entries, 28002 to 236175\n",
            "Columns: 122 entries, SK_ID_CURR to AMT_REQ_CREDIT_BUREAU_YEAR\n",
            "dtypes: float64(65), int64(41), object(16)\n",
            "memory usage: 93.8+ MB\n"
          ]
        }
      ]
    },
    {
      "cell_type": "code",
      "source": [
        "df_train.head()"
      ],
      "metadata": {
        "colab": {
          "base_uri": "https://localhost:8080/",
          "height": 299
        },
        "id": "_QUJvxM43n9z",
        "outputId": "afea980f-c85d-438c-9f7c-d2d734fb17ec"
      },
      "execution_count": 12,
      "outputs": [
        {
          "output_type": "execute_result",
          "data": {
            "text/plain": [
              "        SK_ID_CURR  TARGET NAME_CONTRACT_TYPE CODE_GENDER FLAG_OWN_CAR  \\\n",
              "28002       132550       0         Cash loans           F            N   \n",
              "267199      409586       0         Cash loans           F            N   \n",
              "189982      320281       0         Cash loans           F            Y   \n",
              "154373      278918       0         Cash loans           M            N   \n",
              "125349      245365       0         Cash loans           F            N   \n",
              "\n",
              "       FLAG_OWN_REALTY  CNT_CHILDREN  AMT_INCOME_TOTAL  AMT_CREDIT  \\\n",
              "28002                N             0           85500.0    540000.0   \n",
              "267199               Y             0          157500.0    161730.0   \n",
              "189982               Y             1          202500.0    509922.0   \n",
              "154373               N             0          360000.0   1042560.0   \n",
              "125349               N             2          315000.0    389844.0   \n",
              "\n",
              "        AMT_ANNUITY  ...  FLAG_DOCUMENT_18 FLAG_DOCUMENT_19 FLAG_DOCUMENT_20  \\\n",
              "28002       17550.0  ...                 0                0                0   \n",
              "267199      11632.5  ...                 0                0                0   \n",
              "189982      31194.0  ...                 0                0                0   \n",
              "154373      40572.0  ...                 0                0                0   \n",
              "125349      20034.0  ...                 0                0                0   \n",
              "\n",
              "       FLAG_DOCUMENT_21 AMT_REQ_CREDIT_BUREAU_HOUR AMT_REQ_CREDIT_BUREAU_DAY  \\\n",
              "28002                 0                        NaN                       NaN   \n",
              "267199                0                        0.0                       0.0   \n",
              "189982                0                        0.0                       0.0   \n",
              "154373                0                        0.0                       0.0   \n",
              "125349                0                        0.0                       0.0   \n",
              "\n",
              "        AMT_REQ_CREDIT_BUREAU_WEEK  AMT_REQ_CREDIT_BUREAU_MON  \\\n",
              "28002                          NaN                        NaN   \n",
              "267199                         0.0                        0.0   \n",
              "189982                         0.0                        0.0   \n",
              "154373                         0.0                        0.0   \n",
              "125349                         0.0                        0.0   \n",
              "\n",
              "        AMT_REQ_CREDIT_BUREAU_QRT  AMT_REQ_CREDIT_BUREAU_YEAR  \n",
              "28002                         NaN                         NaN  \n",
              "267199                        0.0                         0.0  \n",
              "189982                        0.0                         2.0  \n",
              "154373                        0.0                         1.0  \n",
              "125349                        1.0                         4.0  \n",
              "\n",
              "[5 rows x 122 columns]"
            ],
            "text/html": [
              "\n",
              "  <div id=\"df-c0a5b69d-249f-4c5a-911e-7ee8b2528b4b\">\n",
              "    <div class=\"colab-df-container\">\n",
              "      <div>\n",
              "<style scoped>\n",
              "    .dataframe tbody tr th:only-of-type {\n",
              "        vertical-align: middle;\n",
              "    }\n",
              "\n",
              "    .dataframe tbody tr th {\n",
              "        vertical-align: top;\n",
              "    }\n",
              "\n",
              "    .dataframe thead th {\n",
              "        text-align: right;\n",
              "    }\n",
              "</style>\n",
              "<table border=\"1\" class=\"dataframe\">\n",
              "  <thead>\n",
              "    <tr style=\"text-align: right;\">\n",
              "      <th></th>\n",
              "      <th>SK_ID_CURR</th>\n",
              "      <th>TARGET</th>\n",
              "      <th>NAME_CONTRACT_TYPE</th>\n",
              "      <th>CODE_GENDER</th>\n",
              "      <th>FLAG_OWN_CAR</th>\n",
              "      <th>FLAG_OWN_REALTY</th>\n",
              "      <th>CNT_CHILDREN</th>\n",
              "      <th>AMT_INCOME_TOTAL</th>\n",
              "      <th>AMT_CREDIT</th>\n",
              "      <th>AMT_ANNUITY</th>\n",
              "      <th>...</th>\n",
              "      <th>FLAG_DOCUMENT_18</th>\n",
              "      <th>FLAG_DOCUMENT_19</th>\n",
              "      <th>FLAG_DOCUMENT_20</th>\n",
              "      <th>FLAG_DOCUMENT_21</th>\n",
              "      <th>AMT_REQ_CREDIT_BUREAU_HOUR</th>\n",
              "      <th>AMT_REQ_CREDIT_BUREAU_DAY</th>\n",
              "      <th>AMT_REQ_CREDIT_BUREAU_WEEK</th>\n",
              "      <th>AMT_REQ_CREDIT_BUREAU_MON</th>\n",
              "      <th>AMT_REQ_CREDIT_BUREAU_QRT</th>\n",
              "      <th>AMT_REQ_CREDIT_BUREAU_YEAR</th>\n",
              "    </tr>\n",
              "  </thead>\n",
              "  <tbody>\n",
              "    <tr>\n",
              "      <th>28002</th>\n",
              "      <td>132550</td>\n",
              "      <td>0</td>\n",
              "      <td>Cash loans</td>\n",
              "      <td>F</td>\n",
              "      <td>N</td>\n",
              "      <td>N</td>\n",
              "      <td>0</td>\n",
              "      <td>85500.0</td>\n",
              "      <td>540000.0</td>\n",
              "      <td>17550.0</td>\n",
              "      <td>...</td>\n",
              "      <td>0</td>\n",
              "      <td>0</td>\n",
              "      <td>0</td>\n",
              "      <td>0</td>\n",
              "      <td>NaN</td>\n",
              "      <td>NaN</td>\n",
              "      <td>NaN</td>\n",
              "      <td>NaN</td>\n",
              "      <td>NaN</td>\n",
              "      <td>NaN</td>\n",
              "    </tr>\n",
              "    <tr>\n",
              "      <th>267199</th>\n",
              "      <td>409586</td>\n",
              "      <td>0</td>\n",
              "      <td>Cash loans</td>\n",
              "      <td>F</td>\n",
              "      <td>N</td>\n",
              "      <td>Y</td>\n",
              "      <td>0</td>\n",
              "      <td>157500.0</td>\n",
              "      <td>161730.0</td>\n",
              "      <td>11632.5</td>\n",
              "      <td>...</td>\n",
              "      <td>0</td>\n",
              "      <td>0</td>\n",
              "      <td>0</td>\n",
              "      <td>0</td>\n",
              "      <td>0.0</td>\n",
              "      <td>0.0</td>\n",
              "      <td>0.0</td>\n",
              "      <td>0.0</td>\n",
              "      <td>0.0</td>\n",
              "      <td>0.0</td>\n",
              "    </tr>\n",
              "    <tr>\n",
              "      <th>189982</th>\n",
              "      <td>320281</td>\n",
              "      <td>0</td>\n",
              "      <td>Cash loans</td>\n",
              "      <td>F</td>\n",
              "      <td>Y</td>\n",
              "      <td>Y</td>\n",
              "      <td>1</td>\n",
              "      <td>202500.0</td>\n",
              "      <td>509922.0</td>\n",
              "      <td>31194.0</td>\n",
              "      <td>...</td>\n",
              "      <td>0</td>\n",
              "      <td>0</td>\n",
              "      <td>0</td>\n",
              "      <td>0</td>\n",
              "      <td>0.0</td>\n",
              "      <td>0.0</td>\n",
              "      <td>0.0</td>\n",
              "      <td>0.0</td>\n",
              "      <td>0.0</td>\n",
              "      <td>2.0</td>\n",
              "    </tr>\n",
              "    <tr>\n",
              "      <th>154373</th>\n",
              "      <td>278918</td>\n",
              "      <td>0</td>\n",
              "      <td>Cash loans</td>\n",
              "      <td>M</td>\n",
              "      <td>N</td>\n",
              "      <td>N</td>\n",
              "      <td>0</td>\n",
              "      <td>360000.0</td>\n",
              "      <td>1042560.0</td>\n",
              "      <td>40572.0</td>\n",
              "      <td>...</td>\n",
              "      <td>0</td>\n",
              "      <td>0</td>\n",
              "      <td>0</td>\n",
              "      <td>0</td>\n",
              "      <td>0.0</td>\n",
              "      <td>0.0</td>\n",
              "      <td>0.0</td>\n",
              "      <td>0.0</td>\n",
              "      <td>0.0</td>\n",
              "      <td>1.0</td>\n",
              "    </tr>\n",
              "    <tr>\n",
              "      <th>125349</th>\n",
              "      <td>245365</td>\n",
              "      <td>0</td>\n",
              "      <td>Cash loans</td>\n",
              "      <td>F</td>\n",
              "      <td>N</td>\n",
              "      <td>N</td>\n",
              "      <td>2</td>\n",
              "      <td>315000.0</td>\n",
              "      <td>389844.0</td>\n",
              "      <td>20034.0</td>\n",
              "      <td>...</td>\n",
              "      <td>0</td>\n",
              "      <td>0</td>\n",
              "      <td>0</td>\n",
              "      <td>0</td>\n",
              "      <td>0.0</td>\n",
              "      <td>0.0</td>\n",
              "      <td>0.0</td>\n",
              "      <td>0.0</td>\n",
              "      <td>1.0</td>\n",
              "      <td>4.0</td>\n",
              "    </tr>\n",
              "  </tbody>\n",
              "</table>\n",
              "<p>5 rows × 122 columns</p>\n",
              "</div>\n",
              "      <button class=\"colab-df-convert\" onclick=\"convertToInteractive('df-c0a5b69d-249f-4c5a-911e-7ee8b2528b4b')\"\n",
              "              title=\"Convert this dataframe to an interactive table.\"\n",
              "              style=\"display:none;\">\n",
              "        \n",
              "  <svg xmlns=\"http://www.w3.org/2000/svg\" height=\"24px\"viewBox=\"0 0 24 24\"\n",
              "       width=\"24px\">\n",
              "    <path d=\"M0 0h24v24H0V0z\" fill=\"none\"/>\n",
              "    <path d=\"M18.56 5.44l.94 2.06.94-2.06 2.06-.94-2.06-.94-.94-2.06-.94 2.06-2.06.94zm-11 1L8.5 8.5l.94-2.06 2.06-.94-2.06-.94L8.5 2.5l-.94 2.06-2.06.94zm10 10l.94 2.06.94-2.06 2.06-.94-2.06-.94-.94-2.06-.94 2.06-2.06.94z\"/><path d=\"M17.41 7.96l-1.37-1.37c-.4-.4-.92-.59-1.43-.59-.52 0-1.04.2-1.43.59L10.3 9.45l-7.72 7.72c-.78.78-.78 2.05 0 2.83L4 21.41c.39.39.9.59 1.41.59.51 0 1.02-.2 1.41-.59l7.78-7.78 2.81-2.81c.8-.78.8-2.07 0-2.86zM5.41 20L4 18.59l7.72-7.72 1.47 1.35L5.41 20z\"/>\n",
              "  </svg>\n",
              "      </button>\n",
              "      \n",
              "  <style>\n",
              "    .colab-df-container {\n",
              "      display:flex;\n",
              "      flex-wrap:wrap;\n",
              "      gap: 12px;\n",
              "    }\n",
              "\n",
              "    .colab-df-convert {\n",
              "      background-color: #E8F0FE;\n",
              "      border: none;\n",
              "      border-radius: 50%;\n",
              "      cursor: pointer;\n",
              "      display: none;\n",
              "      fill: #1967D2;\n",
              "      height: 32px;\n",
              "      padding: 0 0 0 0;\n",
              "      width: 32px;\n",
              "    }\n",
              "\n",
              "    .colab-df-convert:hover {\n",
              "      background-color: #E2EBFA;\n",
              "      box-shadow: 0px 1px 2px rgba(60, 64, 67, 0.3), 0px 1px 3px 1px rgba(60, 64, 67, 0.15);\n",
              "      fill: #174EA6;\n",
              "    }\n",
              "\n",
              "    [theme=dark] .colab-df-convert {\n",
              "      background-color: #3B4455;\n",
              "      fill: #D2E3FC;\n",
              "    }\n",
              "\n",
              "    [theme=dark] .colab-df-convert:hover {\n",
              "      background-color: #434B5C;\n",
              "      box-shadow: 0px 1px 3px 1px rgba(0, 0, 0, 0.15);\n",
              "      filter: drop-shadow(0px 1px 2px rgba(0, 0, 0, 0.3));\n",
              "      fill: #FFFFFF;\n",
              "    }\n",
              "  </style>\n",
              "\n",
              "      <script>\n",
              "        const buttonEl =\n",
              "          document.querySelector('#df-c0a5b69d-249f-4c5a-911e-7ee8b2528b4b button.colab-df-convert');\n",
              "        buttonEl.style.display =\n",
              "          google.colab.kernel.accessAllowed ? 'block' : 'none';\n",
              "\n",
              "        async function convertToInteractive(key) {\n",
              "          const element = document.querySelector('#df-c0a5b69d-249f-4c5a-911e-7ee8b2528b4b');\n",
              "          const dataTable =\n",
              "            await google.colab.kernel.invokeFunction('convertToInteractive',\n",
              "                                                     [key], {});\n",
              "          if (!dataTable) return;\n",
              "\n",
              "          const docLinkHtml = 'Like what you see? Visit the ' +\n",
              "            '<a target=\"_blank\" href=https://colab.research.google.com/notebooks/data_table.ipynb>data table notebook</a>'\n",
              "            + ' to learn more about interactive tables.';\n",
              "          element.innerHTML = '';\n",
              "          dataTable['output_type'] = 'display_data';\n",
              "          await google.colab.output.renderOutput(dataTable, element);\n",
              "          const docLink = document.createElement('div');\n",
              "          docLink.innerHTML = docLinkHtml;\n",
              "          element.appendChild(docLink);\n",
              "        }\n",
              "      </script>\n",
              "    </div>\n",
              "  </div>\n",
              "  "
            ]
          },
          "metadata": {},
          "execution_count": 12
        }
      ]
    },
    {
      "cell_type": "code",
      "source": [
        "df_train_isna_percentage = round(df_train.isnull().sum()*100/len(df_train.index),1)\n",
        "df_train_isna_percentage = df_train_isna_percentage[df_train_isna_percentage.values > 50.0]\n",
        "df_train = df_train.drop(columns = df_train_isna_percentage.index)\n",
        "df_train.info()"
      ],
      "metadata": {
        "colab": {
          "base_uri": "https://localhost:8080/"
        },
        "id": "KtNdcBhN3oAW",
        "outputId": "8cb78ba1-af06-41fd-a2d8-6c98ea01d2f8"
      },
      "execution_count": 13,
      "outputs": [
        {
          "output_type": "stream",
          "name": "stdout",
          "text": [
            "<class 'pandas.core.frame.DataFrame'>\n",
            "Int64Index: 100000 entries, 28002 to 236175\n",
            "Data columns (total 81 columns):\n",
            " #   Column                        Non-Null Count   Dtype  \n",
            "---  ------                        --------------   -----  \n",
            " 0   SK_ID_CURR                    100000 non-null  int64  \n",
            " 1   TARGET                        100000 non-null  int64  \n",
            " 2   NAME_CONTRACT_TYPE            100000 non-null  object \n",
            " 3   CODE_GENDER                   100000 non-null  object \n",
            " 4   FLAG_OWN_CAR                  100000 non-null  object \n",
            " 5   FLAG_OWN_REALTY               100000 non-null  object \n",
            " 6   CNT_CHILDREN                  100000 non-null  int64  \n",
            " 7   AMT_INCOME_TOTAL              100000 non-null  float64\n",
            " 8   AMT_CREDIT                    100000 non-null  float64\n",
            " 9   AMT_ANNUITY                   99996 non-null   float64\n",
            " 10  AMT_GOODS_PRICE               99908 non-null   float64\n",
            " 11  NAME_TYPE_SUITE               99579 non-null   object \n",
            " 12  NAME_INCOME_TYPE              100000 non-null  object \n",
            " 13  NAME_EDUCATION_TYPE           100000 non-null  object \n",
            " 14  NAME_FAMILY_STATUS            100000 non-null  object \n",
            " 15  NAME_HOUSING_TYPE             100000 non-null  object \n",
            " 16  REGION_POPULATION_RELATIVE    100000 non-null  float64\n",
            " 17  DAYS_BIRTH                    100000 non-null  int64  \n",
            " 18  DAYS_EMPLOYED                 100000 non-null  int64  \n",
            " 19  DAYS_REGISTRATION             100000 non-null  float64\n",
            " 20  DAYS_ID_PUBLISH               100000 non-null  int64  \n",
            " 21  FLAG_MOBIL                    100000 non-null  int64  \n",
            " 22  FLAG_EMP_PHONE                100000 non-null  int64  \n",
            " 23  FLAG_WORK_PHONE               100000 non-null  int64  \n",
            " 24  FLAG_CONT_MOBILE              100000 non-null  int64  \n",
            " 25  FLAG_PHONE                    100000 non-null  int64  \n",
            " 26  FLAG_EMAIL                    100000 non-null  int64  \n",
            " 27  OCCUPATION_TYPE               68692 non-null   object \n",
            " 28  CNT_FAM_MEMBERS               99999 non-null   float64\n",
            " 29  REGION_RATING_CLIENT          100000 non-null  int64  \n",
            " 30  REGION_RATING_CLIENT_W_CITY   100000 non-null  int64  \n",
            " 31  WEEKDAY_APPR_PROCESS_START    100000 non-null  object \n",
            " 32  HOUR_APPR_PROCESS_START       100000 non-null  int64  \n",
            " 33  REG_REGION_NOT_LIVE_REGION    100000 non-null  int64  \n",
            " 34  REG_REGION_NOT_WORK_REGION    100000 non-null  int64  \n",
            " 35  LIVE_REGION_NOT_WORK_REGION   100000 non-null  int64  \n",
            " 36  REG_CITY_NOT_LIVE_CITY        100000 non-null  int64  \n",
            " 37  REG_CITY_NOT_WORK_CITY        100000 non-null  int64  \n",
            " 38  LIVE_CITY_NOT_WORK_CITY       100000 non-null  int64  \n",
            " 39  ORGANIZATION_TYPE             100000 non-null  object \n",
            " 40  EXT_SOURCE_2                  99790 non-null   float64\n",
            " 41  EXT_SOURCE_3                  80124 non-null   float64\n",
            " 42  YEARS_BEGINEXPLUATATION_AVG   51207 non-null   float64\n",
            " 43  FLOORSMAX_AVG                 50197 non-null   float64\n",
            " 44  YEARS_BEGINEXPLUATATION_MODE  51207 non-null   float64\n",
            " 45  FLOORSMAX_MODE                50197 non-null   float64\n",
            " 46  YEARS_BEGINEXPLUATATION_MEDI  51207 non-null   float64\n",
            " 47  FLOORSMAX_MEDI                50197 non-null   float64\n",
            " 48  TOTALAREA_MODE                51751 non-null   float64\n",
            " 49  EMERGENCYSTATE_MODE           52602 non-null   object \n",
            " 50  OBS_30_CNT_SOCIAL_CIRCLE      99684 non-null   float64\n",
            " 51  DEF_30_CNT_SOCIAL_CIRCLE      99684 non-null   float64\n",
            " 52  OBS_60_CNT_SOCIAL_CIRCLE      99684 non-null   float64\n",
            " 53  DEF_60_CNT_SOCIAL_CIRCLE      99684 non-null   float64\n",
            " 54  DAYS_LAST_PHONE_CHANGE        99999 non-null   float64\n",
            " 55  FLAG_DOCUMENT_2               100000 non-null  int64  \n",
            " 56  FLAG_DOCUMENT_3               100000 non-null  int64  \n",
            " 57  FLAG_DOCUMENT_4               100000 non-null  int64  \n",
            " 58  FLAG_DOCUMENT_5               100000 non-null  int64  \n",
            " 59  FLAG_DOCUMENT_6               100000 non-null  int64  \n",
            " 60  FLAG_DOCUMENT_7               100000 non-null  int64  \n",
            " 61  FLAG_DOCUMENT_8               100000 non-null  int64  \n",
            " 62  FLAG_DOCUMENT_9               100000 non-null  int64  \n",
            " 63  FLAG_DOCUMENT_10              100000 non-null  int64  \n",
            " 64  FLAG_DOCUMENT_11              100000 non-null  int64  \n",
            " 65  FLAG_DOCUMENT_12              100000 non-null  int64  \n",
            " 66  FLAG_DOCUMENT_13              100000 non-null  int64  \n",
            " 67  FLAG_DOCUMENT_14              100000 non-null  int64  \n",
            " 68  FLAG_DOCUMENT_15              100000 non-null  int64  \n",
            " 69  FLAG_DOCUMENT_16              100000 non-null  int64  \n",
            " 70  FLAG_DOCUMENT_17              100000 non-null  int64  \n",
            " 71  FLAG_DOCUMENT_18              100000 non-null  int64  \n",
            " 72  FLAG_DOCUMENT_19              100000 non-null  int64  \n",
            " 73  FLAG_DOCUMENT_20              100000 non-null  int64  \n",
            " 74  FLAG_DOCUMENT_21              100000 non-null  int64  \n",
            " 75  AMT_REQ_CREDIT_BUREAU_HOUR    86471 non-null   float64\n",
            " 76  AMT_REQ_CREDIT_BUREAU_DAY     86471 non-null   float64\n",
            " 77  AMT_REQ_CREDIT_BUREAU_WEEK    86471 non-null   float64\n",
            " 78  AMT_REQ_CREDIT_BUREAU_MON     86471 non-null   float64\n",
            " 79  AMT_REQ_CREDIT_BUREAU_QRT     86471 non-null   float64\n",
            " 80  AMT_REQ_CREDIT_BUREAU_YEAR    86471 non-null   float64\n",
            "dtypes: float64(27), int64(41), object(13)\n",
            "memory usage: 62.6+ MB\n"
          ]
        }
      ]
    },
    {
      "cell_type": "code",
      "source": [
        "median_columns = list(df_train.isna().sum().index)\n",
        "df_train[median_columns] = df_train[median_columns].fillna(df_train[median_columns].median())\n",
        "df_train.info()"
      ],
      "metadata": {
        "colab": {
          "base_uri": "https://localhost:8080/"
        },
        "id": "IfJFFTnV3oCs",
        "outputId": "d0a1b6d6-6bcf-4639-8918-85ba7f65861d"
      },
      "execution_count": 14,
      "outputs": [
        {
          "output_type": "stream",
          "name": "stderr",
          "text": [
            "<ipython-input-14-14eeb3ac1762>:2: FutureWarning: Dropping of nuisance columns in DataFrame reductions (with 'numeric_only=None') is deprecated; in a future version this will raise TypeError.  Select only valid columns before calling the reduction.\n",
            "  df_train[median_columns] = df_train[median_columns].fillna(df_train[median_columns].median())\n"
          ]
        },
        {
          "output_type": "stream",
          "name": "stdout",
          "text": [
            "<class 'pandas.core.frame.DataFrame'>\n",
            "Int64Index: 100000 entries, 28002 to 236175\n",
            "Data columns (total 81 columns):\n",
            " #   Column                        Non-Null Count   Dtype  \n",
            "---  ------                        --------------   -----  \n",
            " 0   SK_ID_CURR                    100000 non-null  int64  \n",
            " 1   TARGET                        100000 non-null  int64  \n",
            " 2   NAME_CONTRACT_TYPE            100000 non-null  object \n",
            " 3   CODE_GENDER                   100000 non-null  object \n",
            " 4   FLAG_OWN_CAR                  100000 non-null  object \n",
            " 5   FLAG_OWN_REALTY               100000 non-null  object \n",
            " 6   CNT_CHILDREN                  100000 non-null  int64  \n",
            " 7   AMT_INCOME_TOTAL              100000 non-null  float64\n",
            " 8   AMT_CREDIT                    100000 non-null  float64\n",
            " 9   AMT_ANNUITY                   100000 non-null  float64\n",
            " 10  AMT_GOODS_PRICE               100000 non-null  float64\n",
            " 11  NAME_TYPE_SUITE               99579 non-null   object \n",
            " 12  NAME_INCOME_TYPE              100000 non-null  object \n",
            " 13  NAME_EDUCATION_TYPE           100000 non-null  object \n",
            " 14  NAME_FAMILY_STATUS            100000 non-null  object \n",
            " 15  NAME_HOUSING_TYPE             100000 non-null  object \n",
            " 16  REGION_POPULATION_RELATIVE    100000 non-null  float64\n",
            " 17  DAYS_BIRTH                    100000 non-null  int64  \n",
            " 18  DAYS_EMPLOYED                 100000 non-null  int64  \n",
            " 19  DAYS_REGISTRATION             100000 non-null  float64\n",
            " 20  DAYS_ID_PUBLISH               100000 non-null  int64  \n",
            " 21  FLAG_MOBIL                    100000 non-null  int64  \n",
            " 22  FLAG_EMP_PHONE                100000 non-null  int64  \n",
            " 23  FLAG_WORK_PHONE               100000 non-null  int64  \n",
            " 24  FLAG_CONT_MOBILE              100000 non-null  int64  \n",
            " 25  FLAG_PHONE                    100000 non-null  int64  \n",
            " 26  FLAG_EMAIL                    100000 non-null  int64  \n",
            " 27  OCCUPATION_TYPE               68692 non-null   object \n",
            " 28  CNT_FAM_MEMBERS               100000 non-null  float64\n",
            " 29  REGION_RATING_CLIENT          100000 non-null  int64  \n",
            " 30  REGION_RATING_CLIENT_W_CITY   100000 non-null  int64  \n",
            " 31  WEEKDAY_APPR_PROCESS_START    100000 non-null  object \n",
            " 32  HOUR_APPR_PROCESS_START       100000 non-null  int64  \n",
            " 33  REG_REGION_NOT_LIVE_REGION    100000 non-null  int64  \n",
            " 34  REG_REGION_NOT_WORK_REGION    100000 non-null  int64  \n",
            " 35  LIVE_REGION_NOT_WORK_REGION   100000 non-null  int64  \n",
            " 36  REG_CITY_NOT_LIVE_CITY        100000 non-null  int64  \n",
            " 37  REG_CITY_NOT_WORK_CITY        100000 non-null  int64  \n",
            " 38  LIVE_CITY_NOT_WORK_CITY       100000 non-null  int64  \n",
            " 39  ORGANIZATION_TYPE             100000 non-null  object \n",
            " 40  EXT_SOURCE_2                  100000 non-null  float64\n",
            " 41  EXT_SOURCE_3                  100000 non-null  float64\n",
            " 42  YEARS_BEGINEXPLUATATION_AVG   100000 non-null  float64\n",
            " 43  FLOORSMAX_AVG                 100000 non-null  float64\n",
            " 44  YEARS_BEGINEXPLUATATION_MODE  100000 non-null  float64\n",
            " 45  FLOORSMAX_MODE                100000 non-null  float64\n",
            " 46  YEARS_BEGINEXPLUATATION_MEDI  100000 non-null  float64\n",
            " 47  FLOORSMAX_MEDI                100000 non-null  float64\n",
            " 48  TOTALAREA_MODE                100000 non-null  float64\n",
            " 49  EMERGENCYSTATE_MODE           52602 non-null   object \n",
            " 50  OBS_30_CNT_SOCIAL_CIRCLE      100000 non-null  float64\n",
            " 51  DEF_30_CNT_SOCIAL_CIRCLE      100000 non-null  float64\n",
            " 52  OBS_60_CNT_SOCIAL_CIRCLE      100000 non-null  float64\n",
            " 53  DEF_60_CNT_SOCIAL_CIRCLE      100000 non-null  float64\n",
            " 54  DAYS_LAST_PHONE_CHANGE        100000 non-null  float64\n",
            " 55  FLAG_DOCUMENT_2               100000 non-null  int64  \n",
            " 56  FLAG_DOCUMENT_3               100000 non-null  int64  \n",
            " 57  FLAG_DOCUMENT_4               100000 non-null  int64  \n",
            " 58  FLAG_DOCUMENT_5               100000 non-null  int64  \n",
            " 59  FLAG_DOCUMENT_6               100000 non-null  int64  \n",
            " 60  FLAG_DOCUMENT_7               100000 non-null  int64  \n",
            " 61  FLAG_DOCUMENT_8               100000 non-null  int64  \n",
            " 62  FLAG_DOCUMENT_9               100000 non-null  int64  \n",
            " 63  FLAG_DOCUMENT_10              100000 non-null  int64  \n",
            " 64  FLAG_DOCUMENT_11              100000 non-null  int64  \n",
            " 65  FLAG_DOCUMENT_12              100000 non-null  int64  \n",
            " 66  FLAG_DOCUMENT_13              100000 non-null  int64  \n",
            " 67  FLAG_DOCUMENT_14              100000 non-null  int64  \n",
            " 68  FLAG_DOCUMENT_15              100000 non-null  int64  \n",
            " 69  FLAG_DOCUMENT_16              100000 non-null  int64  \n",
            " 70  FLAG_DOCUMENT_17              100000 non-null  int64  \n",
            " 71  FLAG_DOCUMENT_18              100000 non-null  int64  \n",
            " 72  FLAG_DOCUMENT_19              100000 non-null  int64  \n",
            " 73  FLAG_DOCUMENT_20              100000 non-null  int64  \n",
            " 74  FLAG_DOCUMENT_21              100000 non-null  int64  \n",
            " 75  AMT_REQ_CREDIT_BUREAU_HOUR    100000 non-null  float64\n",
            " 76  AMT_REQ_CREDIT_BUREAU_DAY     100000 non-null  float64\n",
            " 77  AMT_REQ_CREDIT_BUREAU_WEEK    100000 non-null  float64\n",
            " 78  AMT_REQ_CREDIT_BUREAU_MON     100000 non-null  float64\n",
            " 79  AMT_REQ_CREDIT_BUREAU_QRT     100000 non-null  float64\n",
            " 80  AMT_REQ_CREDIT_BUREAU_YEAR    100000 non-null  float64\n",
            "dtypes: float64(27), int64(41), object(13)\n",
            "memory usage: 62.6+ MB\n"
          ]
        }
      ]
    },
    {
      "cell_type": "code",
      "source": [
        "object_columns = list(df_train.select_dtypes(include=['object']).columns)\n",
        "\n",
        "df_object_columns = df_train.loc[:,object_columns]\n",
        "d = df_object_columns.isna().sum() \n",
        "list(d[d.values != 0].index)"
      ],
      "metadata": {
        "colab": {
          "base_uri": "https://localhost:8080/"
        },
        "id": "h5bMSfAM3oFF",
        "outputId": "b19517c1-ae95-4dbd-8c2e-f2079681cde7"
      },
      "execution_count": 15,
      "outputs": [
        {
          "output_type": "execute_result",
          "data": {
            "text/plain": [
              "['NAME_TYPE_SUITE', 'OCCUPATION_TYPE', 'EMERGENCYSTATE_MODE']"
            ]
          },
          "metadata": {},
          "execution_count": 15
        }
      ]
    },
    {
      "cell_type": "code",
      "source": [
        "df_train['NAME_TYPE_SUITE'] = df_train['NAME_TYPE_SUITE'].fillna(df_train['NAME_TYPE_SUITE'].mode()[0])\n",
        "df_train['OCCUPATION_TYPE'] = df_train['OCCUPATION_TYPE'].fillna(df_train['OCCUPATION_TYPE'].mode()[0])\n",
        "df_train['EMERGENCYSTATE_MODE'] = df_train['EMERGENCYSTATE_MODE'].fillna(df_train['EMERGENCYSTATE_MODE'].mode()[0])"
      ],
      "metadata": {
        "id": "ExcihxcC3oHb"
      },
      "execution_count": 16,
      "outputs": []
    },
    {
      "cell_type": "code",
      "source": [
        "df_train.info()"
      ],
      "metadata": {
        "colab": {
          "base_uri": "https://localhost:8080/"
        },
        "id": "4U165sH_3oJs",
        "outputId": "a5c8ecec-2184-449d-c4e3-f26fa93542ae"
      },
      "execution_count": 17,
      "outputs": [
        {
          "output_type": "stream",
          "name": "stdout",
          "text": [
            "<class 'pandas.core.frame.DataFrame'>\n",
            "Int64Index: 100000 entries, 28002 to 236175\n",
            "Data columns (total 81 columns):\n",
            " #   Column                        Non-Null Count   Dtype  \n",
            "---  ------                        --------------   -----  \n",
            " 0   SK_ID_CURR                    100000 non-null  int64  \n",
            " 1   TARGET                        100000 non-null  int64  \n",
            " 2   NAME_CONTRACT_TYPE            100000 non-null  object \n",
            " 3   CODE_GENDER                   100000 non-null  object \n",
            " 4   FLAG_OWN_CAR                  100000 non-null  object \n",
            " 5   FLAG_OWN_REALTY               100000 non-null  object \n",
            " 6   CNT_CHILDREN                  100000 non-null  int64  \n",
            " 7   AMT_INCOME_TOTAL              100000 non-null  float64\n",
            " 8   AMT_CREDIT                    100000 non-null  float64\n",
            " 9   AMT_ANNUITY                   100000 non-null  float64\n",
            " 10  AMT_GOODS_PRICE               100000 non-null  float64\n",
            " 11  NAME_TYPE_SUITE               100000 non-null  object \n",
            " 12  NAME_INCOME_TYPE              100000 non-null  object \n",
            " 13  NAME_EDUCATION_TYPE           100000 non-null  object \n",
            " 14  NAME_FAMILY_STATUS            100000 non-null  object \n",
            " 15  NAME_HOUSING_TYPE             100000 non-null  object \n",
            " 16  REGION_POPULATION_RELATIVE    100000 non-null  float64\n",
            " 17  DAYS_BIRTH                    100000 non-null  int64  \n",
            " 18  DAYS_EMPLOYED                 100000 non-null  int64  \n",
            " 19  DAYS_REGISTRATION             100000 non-null  float64\n",
            " 20  DAYS_ID_PUBLISH               100000 non-null  int64  \n",
            " 21  FLAG_MOBIL                    100000 non-null  int64  \n",
            " 22  FLAG_EMP_PHONE                100000 non-null  int64  \n",
            " 23  FLAG_WORK_PHONE               100000 non-null  int64  \n",
            " 24  FLAG_CONT_MOBILE              100000 non-null  int64  \n",
            " 25  FLAG_PHONE                    100000 non-null  int64  \n",
            " 26  FLAG_EMAIL                    100000 non-null  int64  \n",
            " 27  OCCUPATION_TYPE               100000 non-null  object \n",
            " 28  CNT_FAM_MEMBERS               100000 non-null  float64\n",
            " 29  REGION_RATING_CLIENT          100000 non-null  int64  \n",
            " 30  REGION_RATING_CLIENT_W_CITY   100000 non-null  int64  \n",
            " 31  WEEKDAY_APPR_PROCESS_START    100000 non-null  object \n",
            " 32  HOUR_APPR_PROCESS_START       100000 non-null  int64  \n",
            " 33  REG_REGION_NOT_LIVE_REGION    100000 non-null  int64  \n",
            " 34  REG_REGION_NOT_WORK_REGION    100000 non-null  int64  \n",
            " 35  LIVE_REGION_NOT_WORK_REGION   100000 non-null  int64  \n",
            " 36  REG_CITY_NOT_LIVE_CITY        100000 non-null  int64  \n",
            " 37  REG_CITY_NOT_WORK_CITY        100000 non-null  int64  \n",
            " 38  LIVE_CITY_NOT_WORK_CITY       100000 non-null  int64  \n",
            " 39  ORGANIZATION_TYPE             100000 non-null  object \n",
            " 40  EXT_SOURCE_2                  100000 non-null  float64\n",
            " 41  EXT_SOURCE_3                  100000 non-null  float64\n",
            " 42  YEARS_BEGINEXPLUATATION_AVG   100000 non-null  float64\n",
            " 43  FLOORSMAX_AVG                 100000 non-null  float64\n",
            " 44  YEARS_BEGINEXPLUATATION_MODE  100000 non-null  float64\n",
            " 45  FLOORSMAX_MODE                100000 non-null  float64\n",
            " 46  YEARS_BEGINEXPLUATATION_MEDI  100000 non-null  float64\n",
            " 47  FLOORSMAX_MEDI                100000 non-null  float64\n",
            " 48  TOTALAREA_MODE                100000 non-null  float64\n",
            " 49  EMERGENCYSTATE_MODE           100000 non-null  object \n",
            " 50  OBS_30_CNT_SOCIAL_CIRCLE      100000 non-null  float64\n",
            " 51  DEF_30_CNT_SOCIAL_CIRCLE      100000 non-null  float64\n",
            " 52  OBS_60_CNT_SOCIAL_CIRCLE      100000 non-null  float64\n",
            " 53  DEF_60_CNT_SOCIAL_CIRCLE      100000 non-null  float64\n",
            " 54  DAYS_LAST_PHONE_CHANGE        100000 non-null  float64\n",
            " 55  FLAG_DOCUMENT_2               100000 non-null  int64  \n",
            " 56  FLAG_DOCUMENT_3               100000 non-null  int64  \n",
            " 57  FLAG_DOCUMENT_4               100000 non-null  int64  \n",
            " 58  FLAG_DOCUMENT_5               100000 non-null  int64  \n",
            " 59  FLAG_DOCUMENT_6               100000 non-null  int64  \n",
            " 60  FLAG_DOCUMENT_7               100000 non-null  int64  \n",
            " 61  FLAG_DOCUMENT_8               100000 non-null  int64  \n",
            " 62  FLAG_DOCUMENT_9               100000 non-null  int64  \n",
            " 63  FLAG_DOCUMENT_10              100000 non-null  int64  \n",
            " 64  FLAG_DOCUMENT_11              100000 non-null  int64  \n",
            " 65  FLAG_DOCUMENT_12              100000 non-null  int64  \n",
            " 66  FLAG_DOCUMENT_13              100000 non-null  int64  \n",
            " 67  FLAG_DOCUMENT_14              100000 non-null  int64  \n",
            " 68  FLAG_DOCUMENT_15              100000 non-null  int64  \n",
            " 69  FLAG_DOCUMENT_16              100000 non-null  int64  \n",
            " 70  FLAG_DOCUMENT_17              100000 non-null  int64  \n",
            " 71  FLAG_DOCUMENT_18              100000 non-null  int64  \n",
            " 72  FLAG_DOCUMENT_19              100000 non-null  int64  \n",
            " 73  FLAG_DOCUMENT_20              100000 non-null  int64  \n",
            " 74  FLAG_DOCUMENT_21              100000 non-null  int64  \n",
            " 75  AMT_REQ_CREDIT_BUREAU_HOUR    100000 non-null  float64\n",
            " 76  AMT_REQ_CREDIT_BUREAU_DAY     100000 non-null  float64\n",
            " 77  AMT_REQ_CREDIT_BUREAU_WEEK    100000 non-null  float64\n",
            " 78  AMT_REQ_CREDIT_BUREAU_MON     100000 non-null  float64\n",
            " 79  AMT_REQ_CREDIT_BUREAU_QRT     100000 non-null  float64\n",
            " 80  AMT_REQ_CREDIT_BUREAU_YEAR    100000 non-null  float64\n",
            "dtypes: float64(27), int64(41), object(13)\n",
            "memory usage: 62.6+ MB\n"
          ]
        }
      ]
    },
    {
      "cell_type": "code",
      "source": [
        "df_train = pd.get_dummies(df_train, drop_first=True)\n",
        "df_train.head()"
      ],
      "metadata": {
        "colab": {
          "base_uri": "https://localhost:8080/",
          "height": 317
        },
        "id": "OFFmq_Ps3oMG",
        "outputId": "dedd1d4f-cba1-42d1-bdc4-f1fc8f95939c"
      },
      "execution_count": 18,
      "outputs": [
        {
          "output_type": "execute_result",
          "data": {
            "text/plain": [
              "        SK_ID_CURR  TARGET  CNT_CHILDREN  AMT_INCOME_TOTAL  AMT_CREDIT  \\\n",
              "28002       132550       0             0           85500.0    540000.0   \n",
              "267199      409586       0             0          157500.0    161730.0   \n",
              "189982      320281       0             1          202500.0    509922.0   \n",
              "154373      278918       0             0          360000.0   1042560.0   \n",
              "125349      245365       0             2          315000.0    389844.0   \n",
              "\n",
              "        AMT_ANNUITY  AMT_GOODS_PRICE  REGION_POPULATION_RELATIVE  DAYS_BIRTH  \\\n",
              "28002       17550.0         540000.0                    0.022800       -9541   \n",
              "267199      11632.5         135000.0                    0.007114      -15348   \n",
              "189982      31194.0         472500.0                    0.018634      -19340   \n",
              "154373      40572.0         900000.0                    0.072508      -11465   \n",
              "125349      20034.0         315000.0                    0.016612      -15341   \n",
              "\n",
              "        DAYS_EMPLOYED  ...  ORGANIZATION_TYPE_Trade: type 5  \\\n",
              "28002            -124  ...                                0   \n",
              "267199          -2414  ...                                0   \n",
              "189982          -2905  ...                                0   \n",
              "154373          -1625  ...                                0   \n",
              "125349          -5215  ...                                0   \n",
              "\n",
              "        ORGANIZATION_TYPE_Trade: type 6  ORGANIZATION_TYPE_Trade: type 7  \\\n",
              "28002                                 0                                0   \n",
              "267199                                0                                0   \n",
              "189982                                0                                0   \n",
              "154373                                0                                0   \n",
              "125349                                0                                0   \n",
              "\n",
              "        ORGANIZATION_TYPE_Transport: type 1  \\\n",
              "28002                                     0   \n",
              "267199                                    0   \n",
              "189982                                    0   \n",
              "154373                                    0   \n",
              "125349                                    0   \n",
              "\n",
              "        ORGANIZATION_TYPE_Transport: type 2  \\\n",
              "28002                                     0   \n",
              "267199                                    0   \n",
              "189982                                    0   \n",
              "154373                                    0   \n",
              "125349                                    0   \n",
              "\n",
              "        ORGANIZATION_TYPE_Transport: type 3  \\\n",
              "28002                                     0   \n",
              "267199                                    0   \n",
              "189982                                    0   \n",
              "154373                                    0   \n",
              "125349                                    0   \n",
              "\n",
              "        ORGANIZATION_TYPE_Transport: type 4  ORGANIZATION_TYPE_University  \\\n",
              "28002                                     0                             0   \n",
              "267199                                    0                             0   \n",
              "189982                                    0                             0   \n",
              "154373                                    0                             0   \n",
              "125349                                    0                             0   \n",
              "\n",
              "        ORGANIZATION_TYPE_XNA  EMERGENCYSTATE_MODE_Yes  \n",
              "28002                       0                        0  \n",
              "267199                      0                        0  \n",
              "189982                      0                        0  \n",
              "154373                      0                        0  \n",
              "125349                      0                        0  \n",
              "\n",
              "[5 rows x 180 columns]"
            ],
            "text/html": [
              "\n",
              "  <div id=\"df-2d6c188e-0503-4c9d-aa37-c04649da646e\">\n",
              "    <div class=\"colab-df-container\">\n",
              "      <div>\n",
              "<style scoped>\n",
              "    .dataframe tbody tr th:only-of-type {\n",
              "        vertical-align: middle;\n",
              "    }\n",
              "\n",
              "    .dataframe tbody tr th {\n",
              "        vertical-align: top;\n",
              "    }\n",
              "\n",
              "    .dataframe thead th {\n",
              "        text-align: right;\n",
              "    }\n",
              "</style>\n",
              "<table border=\"1\" class=\"dataframe\">\n",
              "  <thead>\n",
              "    <tr style=\"text-align: right;\">\n",
              "      <th></th>\n",
              "      <th>SK_ID_CURR</th>\n",
              "      <th>TARGET</th>\n",
              "      <th>CNT_CHILDREN</th>\n",
              "      <th>AMT_INCOME_TOTAL</th>\n",
              "      <th>AMT_CREDIT</th>\n",
              "      <th>AMT_ANNUITY</th>\n",
              "      <th>AMT_GOODS_PRICE</th>\n",
              "      <th>REGION_POPULATION_RELATIVE</th>\n",
              "      <th>DAYS_BIRTH</th>\n",
              "      <th>DAYS_EMPLOYED</th>\n",
              "      <th>...</th>\n",
              "      <th>ORGANIZATION_TYPE_Trade: type 5</th>\n",
              "      <th>ORGANIZATION_TYPE_Trade: type 6</th>\n",
              "      <th>ORGANIZATION_TYPE_Trade: type 7</th>\n",
              "      <th>ORGANIZATION_TYPE_Transport: type 1</th>\n",
              "      <th>ORGANIZATION_TYPE_Transport: type 2</th>\n",
              "      <th>ORGANIZATION_TYPE_Transport: type 3</th>\n",
              "      <th>ORGANIZATION_TYPE_Transport: type 4</th>\n",
              "      <th>ORGANIZATION_TYPE_University</th>\n",
              "      <th>ORGANIZATION_TYPE_XNA</th>\n",
              "      <th>EMERGENCYSTATE_MODE_Yes</th>\n",
              "    </tr>\n",
              "  </thead>\n",
              "  <tbody>\n",
              "    <tr>\n",
              "      <th>28002</th>\n",
              "      <td>132550</td>\n",
              "      <td>0</td>\n",
              "      <td>0</td>\n",
              "      <td>85500.0</td>\n",
              "      <td>540000.0</td>\n",
              "      <td>17550.0</td>\n",
              "      <td>540000.0</td>\n",
              "      <td>0.022800</td>\n",
              "      <td>-9541</td>\n",
              "      <td>-124</td>\n",
              "      <td>...</td>\n",
              "      <td>0</td>\n",
              "      <td>0</td>\n",
              "      <td>0</td>\n",
              "      <td>0</td>\n",
              "      <td>0</td>\n",
              "      <td>0</td>\n",
              "      <td>0</td>\n",
              "      <td>0</td>\n",
              "      <td>0</td>\n",
              "      <td>0</td>\n",
              "    </tr>\n",
              "    <tr>\n",
              "      <th>267199</th>\n",
              "      <td>409586</td>\n",
              "      <td>0</td>\n",
              "      <td>0</td>\n",
              "      <td>157500.0</td>\n",
              "      <td>161730.0</td>\n",
              "      <td>11632.5</td>\n",
              "      <td>135000.0</td>\n",
              "      <td>0.007114</td>\n",
              "      <td>-15348</td>\n",
              "      <td>-2414</td>\n",
              "      <td>...</td>\n",
              "      <td>0</td>\n",
              "      <td>0</td>\n",
              "      <td>0</td>\n",
              "      <td>0</td>\n",
              "      <td>0</td>\n",
              "      <td>0</td>\n",
              "      <td>0</td>\n",
              "      <td>0</td>\n",
              "      <td>0</td>\n",
              "      <td>0</td>\n",
              "    </tr>\n",
              "    <tr>\n",
              "      <th>189982</th>\n",
              "      <td>320281</td>\n",
              "      <td>0</td>\n",
              "      <td>1</td>\n",
              "      <td>202500.0</td>\n",
              "      <td>509922.0</td>\n",
              "      <td>31194.0</td>\n",
              "      <td>472500.0</td>\n",
              "      <td>0.018634</td>\n",
              "      <td>-19340</td>\n",
              "      <td>-2905</td>\n",
              "      <td>...</td>\n",
              "      <td>0</td>\n",
              "      <td>0</td>\n",
              "      <td>0</td>\n",
              "      <td>0</td>\n",
              "      <td>0</td>\n",
              "      <td>0</td>\n",
              "      <td>0</td>\n",
              "      <td>0</td>\n",
              "      <td>0</td>\n",
              "      <td>0</td>\n",
              "    </tr>\n",
              "    <tr>\n",
              "      <th>154373</th>\n",
              "      <td>278918</td>\n",
              "      <td>0</td>\n",
              "      <td>0</td>\n",
              "      <td>360000.0</td>\n",
              "      <td>1042560.0</td>\n",
              "      <td>40572.0</td>\n",
              "      <td>900000.0</td>\n",
              "      <td>0.072508</td>\n",
              "      <td>-11465</td>\n",
              "      <td>-1625</td>\n",
              "      <td>...</td>\n",
              "      <td>0</td>\n",
              "      <td>0</td>\n",
              "      <td>0</td>\n",
              "      <td>0</td>\n",
              "      <td>0</td>\n",
              "      <td>0</td>\n",
              "      <td>0</td>\n",
              "      <td>0</td>\n",
              "      <td>0</td>\n",
              "      <td>0</td>\n",
              "    </tr>\n",
              "    <tr>\n",
              "      <th>125349</th>\n",
              "      <td>245365</td>\n",
              "      <td>0</td>\n",
              "      <td>2</td>\n",
              "      <td>315000.0</td>\n",
              "      <td>389844.0</td>\n",
              "      <td>20034.0</td>\n",
              "      <td>315000.0</td>\n",
              "      <td>0.016612</td>\n",
              "      <td>-15341</td>\n",
              "      <td>-5215</td>\n",
              "      <td>...</td>\n",
              "      <td>0</td>\n",
              "      <td>0</td>\n",
              "      <td>0</td>\n",
              "      <td>0</td>\n",
              "      <td>0</td>\n",
              "      <td>0</td>\n",
              "      <td>0</td>\n",
              "      <td>0</td>\n",
              "      <td>0</td>\n",
              "      <td>0</td>\n",
              "    </tr>\n",
              "  </tbody>\n",
              "</table>\n",
              "<p>5 rows × 180 columns</p>\n",
              "</div>\n",
              "      <button class=\"colab-df-convert\" onclick=\"convertToInteractive('df-2d6c188e-0503-4c9d-aa37-c04649da646e')\"\n",
              "              title=\"Convert this dataframe to an interactive table.\"\n",
              "              style=\"display:none;\">\n",
              "        \n",
              "  <svg xmlns=\"http://www.w3.org/2000/svg\" height=\"24px\"viewBox=\"0 0 24 24\"\n",
              "       width=\"24px\">\n",
              "    <path d=\"M0 0h24v24H0V0z\" fill=\"none\"/>\n",
              "    <path d=\"M18.56 5.44l.94 2.06.94-2.06 2.06-.94-2.06-.94-.94-2.06-.94 2.06-2.06.94zm-11 1L8.5 8.5l.94-2.06 2.06-.94-2.06-.94L8.5 2.5l-.94 2.06-2.06.94zm10 10l.94 2.06.94-2.06 2.06-.94-2.06-.94-.94-2.06-.94 2.06-2.06.94z\"/><path d=\"M17.41 7.96l-1.37-1.37c-.4-.4-.92-.59-1.43-.59-.52 0-1.04.2-1.43.59L10.3 9.45l-7.72 7.72c-.78.78-.78 2.05 0 2.83L4 21.41c.39.39.9.59 1.41.59.51 0 1.02-.2 1.41-.59l7.78-7.78 2.81-2.81c.8-.78.8-2.07 0-2.86zM5.41 20L4 18.59l7.72-7.72 1.47 1.35L5.41 20z\"/>\n",
              "  </svg>\n",
              "      </button>\n",
              "      \n",
              "  <style>\n",
              "    .colab-df-container {\n",
              "      display:flex;\n",
              "      flex-wrap:wrap;\n",
              "      gap: 12px;\n",
              "    }\n",
              "\n",
              "    .colab-df-convert {\n",
              "      background-color: #E8F0FE;\n",
              "      border: none;\n",
              "      border-radius: 50%;\n",
              "      cursor: pointer;\n",
              "      display: none;\n",
              "      fill: #1967D2;\n",
              "      height: 32px;\n",
              "      padding: 0 0 0 0;\n",
              "      width: 32px;\n",
              "    }\n",
              "\n",
              "    .colab-df-convert:hover {\n",
              "      background-color: #E2EBFA;\n",
              "      box-shadow: 0px 1px 2px rgba(60, 64, 67, 0.3), 0px 1px 3px 1px rgba(60, 64, 67, 0.15);\n",
              "      fill: #174EA6;\n",
              "    }\n",
              "\n",
              "    [theme=dark] .colab-df-convert {\n",
              "      background-color: #3B4455;\n",
              "      fill: #D2E3FC;\n",
              "    }\n",
              "\n",
              "    [theme=dark] .colab-df-convert:hover {\n",
              "      background-color: #434B5C;\n",
              "      box-shadow: 0px 1px 3px 1px rgba(0, 0, 0, 0.15);\n",
              "      filter: drop-shadow(0px 1px 2px rgba(0, 0, 0, 0.3));\n",
              "      fill: #FFFFFF;\n",
              "    }\n",
              "  </style>\n",
              "\n",
              "      <script>\n",
              "        const buttonEl =\n",
              "          document.querySelector('#df-2d6c188e-0503-4c9d-aa37-c04649da646e button.colab-df-convert');\n",
              "        buttonEl.style.display =\n",
              "          google.colab.kernel.accessAllowed ? 'block' : 'none';\n",
              "\n",
              "        async function convertToInteractive(key) {\n",
              "          const element = document.querySelector('#df-2d6c188e-0503-4c9d-aa37-c04649da646e');\n",
              "          const dataTable =\n",
              "            await google.colab.kernel.invokeFunction('convertToInteractive',\n",
              "                                                     [key], {});\n",
              "          if (!dataTable) return;\n",
              "\n",
              "          const docLinkHtml = 'Like what you see? Visit the ' +\n",
              "            '<a target=\"_blank\" href=https://colab.research.google.com/notebooks/data_table.ipynb>data table notebook</a>'\n",
              "            + ' to learn more about interactive tables.';\n",
              "          element.innerHTML = '';\n",
              "          dataTable['output_type'] = 'display_data';\n",
              "          await google.colab.output.renderOutput(dataTable, element);\n",
              "          const docLink = document.createElement('div');\n",
              "          docLink.innerHTML = docLinkHtml;\n",
              "          element.appendChild(docLink);\n",
              "        }\n",
              "      </script>\n",
              "    </div>\n",
              "  </div>\n",
              "  "
            ]
          },
          "metadata": {},
          "execution_count": 18
        }
      ]
    },
    {
      "cell_type": "code",
      "source": [
        "X = df_train.drop(columns = ['TARGET'])\n",
        "y = df_train['TARGET']\n",
        "\n",
        "X_train, X_valid, y_train, y_valid= train_test_split(X, y, test_size=0.20, random_state=111222, stratify=y)\n",
        "\n",
        "X_train.shape, X_valid.shape"
      ],
      "metadata": {
        "colab": {
          "base_uri": "https://localhost:8080/"
        },
        "id": "RBToTIT63oOu",
        "outputId": "f8813a60-e544-47df-a6e1-b0cef7be7c66"
      },
      "execution_count": 19,
      "outputs": [
        {
          "output_type": "execute_result",
          "data": {
            "text/plain": [
              "((80000, 179), (20000, 179))"
            ]
          },
          "metadata": {},
          "execution_count": 19
        }
      ]
    },
    {
      "cell_type": "code",
      "source": [
        "importances = mutual_info_classif(X_train, y_train)\n",
        "feature_importances = pd.Series(importances, X_train.columns[0:len(X_train.columns)])\n",
        "\n",
        "important_feature = feature_importances[feature_importances.values > 0.01]\n",
        "drop_feature = feature_importances[feature_importances.values <= 0.01]"
      ],
      "metadata": {
        "id": "nlhx54fg3oQ0"
      },
      "execution_count": 20,
      "outputs": []
    },
    {
      "cell_type": "code",
      "source": [
        "plt.figure(figsize=(20,5))\n",
        "important_feature.sort_values().plot(kind='barh')\n",
        "plt.show()"
      ],
      "metadata": {
        "colab": {
          "base_uri": "https://localhost:8080/",
          "height": 268
        },
        "id": "Xtkw1NTw3oTG",
        "outputId": "abfab7d6-5309-42b1-f211-1022f8acad71"
      },
      "execution_count": 21,
      "outputs": [
        {
          "output_type": "display_data",
          "data": {
            "text/plain": [
              "<Figure size 1440x360 with 1 Axes>"
            ],
            "image/png": "[encoded data removed]"
          },
          "metadata": {
            "needs_background": "light"
          }
        }
      ]
    },
    {
      "cell_type": "code",
      "source": [
        "len(X_train.columns), len(drop_feature.index)"
      ],
      "metadata": {
        "colab": {
          "base_uri": "https://localhost:8080/"
        },
        "id": "KpkdVFcA3oVy",
        "outputId": "f3674a50-7bd7-43f2-d293-b659520b5565"
      },
      "execution_count": 22,
      "outputs": [
        {
          "output_type": "execute_result",
          "data": {
            "text/plain": [
              "(179, 170)"
            ]
          },
          "metadata": {},
          "execution_count": 22
        }
      ]
    },
    {
      "cell_type": "code",
      "source": [
        "X_train = X_train.drop(columns = drop_feature.index)\n",
        "X_valid = X_valid.drop(columns = drop_feature.index)\n",
        "len(X_train.columns)"
      ],
      "metadata": {
        "colab": {
          "base_uri": "https://localhost:8080/"
        },
        "id": "-Cvyrhu04K7V",
        "outputId": "e887c122-3ccf-4387-c189-b43ccffe1f9d"
      },
      "execution_count": 23,
      "outputs": [
        {
          "output_type": "execute_result",
          "data": {
            "text/plain": [
              "9"
            ]
          },
          "metadata": {},
          "execution_count": 23
        }
      ]
    },
    {
      "cell_type": "code",
      "source": [
        "numeric = list(X_train.columns)\n",
        "\n",
        "scaler = StandardScaler()\n",
        "scaler.fit(X_train[numeric])\n",
        "X_train[numeric] = scaler.transform(X_train[numeric])\n",
        "X_valid[numeric] = scaler.transform(X_valid[numeric])\n",
        "X_train.sample(10)"
      ],
      "metadata": {
        "colab": {
          "base_uri": "https://localhost:8080/",
          "height": 444
        },
        "id": "mupFpvjK4K9y",
        "outputId": "f4e0b55b-f438-4d81-8e64-1cac02254a67"
      },
      "execution_count": 24,
      "outputs": [
        {
          "output_type": "execute_result",
          "data": {
            "text/plain": [
              "        AMT_ANNUITY  FLAG_MOBIL  FLAG_EMP_PHONE  FLAG_CONT_MOBILE  \\\n",
              "41136     -0.151836    0.003536        0.468442          0.042612   \n",
              "268672     0.614367    0.003536        0.468442          0.042612   \n",
              "205424    -0.314673    0.003536        0.468442          0.042612   \n",
              "60037      0.514993    0.003536        0.468442          0.042612   \n",
              "150749    -1.483325    0.003536       -2.134736          0.042612   \n",
              "52249     -0.193628    0.003536        0.468442          0.042612   \n",
              "302596     0.154026    0.003536        0.468442          0.042612   \n",
              "72277     -0.237279    0.003536        0.468442          0.042612   \n",
              "39697     -0.790802    0.003536        0.468442          0.042612   \n",
              "16485      1.750204    0.003536        0.468442          0.042612   \n",
              "\n",
              "        REGION_RATING_CLIENT_W_CITY  EXT_SOURCE_2  EXT_SOURCE_3  \\\n",
              "41136                     -0.061673      0.539234     -0.221954   \n",
              "268672                     1.922969     -1.809487      0.107687   \n",
              "205424                    -0.061673      0.696456      0.107687   \n",
              "60037                     -0.061673     -1.851444      0.599343   \n",
              "150749                    -0.061673     -0.693972      0.107687   \n",
              "52249                     -0.061673     -0.954430     -0.814733   \n",
              "302596                    -0.061673     -0.856072     -0.436985   \n",
              "72277                      1.922969     -1.683196      0.954241   \n",
              "39697                     -0.061673      0.560018      0.107687   \n",
              "16485                      1.922969     -0.126724      0.107687   \n",
              "\n",
              "        NAME_TYPE_SUITE_Unaccompanied  NAME_HOUSING_TYPE_House / apartment  \n",
              "41136                        0.479892                            -2.800484  \n",
              "268672                       0.479892                             0.357081  \n",
              "205424                       0.479892                             0.357081  \n",
              "60037                        0.479892                             0.357081  \n",
              "150749                      -2.083804                             0.357081  \n",
              "52249                        0.479892                             0.357081  \n",
              "302596                       0.479892                             0.357081  \n",
              "72277                        0.479892                            -2.800484  \n",
              "39697                        0.479892                             0.357081  \n",
              "16485                        0.479892                             0.357081  "
            ],
            "text/html": [
              "\n",
              "  <div id=\"df-5160aed2-fe80-4a1c-85f9-8b77bbcffe37\">\n",
              "    <div class=\"colab-df-container\">\n",
              "      <div>\n",
              "<style scoped>\n",
              "    .dataframe tbody tr th:only-of-type {\n",
              "        vertical-align: middle;\n",
              "    }\n",
              "\n",
              "    .dataframe tbody tr th {\n",
              "        vertical-align: top;\n",
              "    }\n",
              "\n",
              "    .dataframe thead th {\n",
              "        text-align: right;\n",
              "    }\n",
              "</style>\n",
              "<table border=\"1\" class=\"dataframe\">\n",
              "  <thead>\n",
              "    <tr style=\"text-align: right;\">\n",
              "      <th></th>\n",
              "      <th>AMT_ANNUITY</th>\n",
              "      <th>FLAG_MOBIL</th>\n",
              "      <th>FLAG_EMP_PHONE</th>\n",
              "      <th>FLAG_CONT_MOBILE</th>\n",
              "      <th>REGION_RATING_CLIENT_W_CITY</th>\n",
              "      <th>EXT_SOURCE_2</th>\n",
              "      <th>EXT_SOURCE_3</th>\n",
              "      <th>NAME_TYPE_SUITE_Unaccompanied</th>\n",
              "      <th>NAME_HOUSING_TYPE_House / apartment</th>\n",
              "    </tr>\n",
              "  </thead>\n",
              "  <tbody>\n",
              "    <tr>\n",
              "      <th>41136</th>\n",
              "      <td>-0.151836</td>\n",
              "      <td>0.003536</td>\n",
              "      <td>0.468442</td>\n",
              "      <td>0.042612</td>\n",
              "      <td>-0.061673</td>\n",
              "      <td>0.539234</td>\n",
              "      <td>-0.221954</td>\n",
              "      <td>0.479892</td>\n",
              "      <td>-2.800484</td>\n",
              "    </tr>\n",
              "    <tr>\n",
              "      <th>268672</th>\n",
              "      <td>0.614367</td>\n",
              "      <td>0.003536</td>\n",
              "      <td>0.468442</td>\n",
              "      <td>0.042612</td>\n",
              "      <td>1.922969</td>\n",
              "      <td>-1.809487</td>\n",
              "      <td>0.107687</td>\n",
              "      <td>0.479892</td>\n",
              "      <td>0.357081</td>\n",
              "    </tr>\n",
              "    <tr>\n",
              "      <th>205424</th>\n",
              "      <td>-0.314673</td>\n",
              "      <td>0.003536</td>\n",
              "      <td>0.468442</td>\n",
              "      <td>0.042612</td>\n",
              "      <td>-0.061673</td>\n",
              "      <td>0.696456</td>\n",
              "      <td>0.107687</td>\n",
              "      <td>0.479892</td>\n",
              "      <td>0.357081</td>\n",
              "    </tr>\n",
              "    <tr>\n",
              "      <th>60037</th>\n",
              "      <td>0.514993</td>\n",
              "      <td>0.003536</td>\n",
              "      <td>0.468442</td>\n",
              "      <td>0.042612</td>\n",
              "      <td>-0.061673</td>\n",
              "      <td>-1.851444</td>\n",
              "      <td>0.599343</td>\n",
              "      <td>0.479892</td>\n",
              "      <td>0.357081</td>\n",
              "    </tr>\n",
              "    <tr>\n",
              "      <th>150749</th>\n",
              "      <td>-1.483325</td>\n",
              "      <td>0.003536</td>\n",
              "      <td>-2.134736</td>\n",
              "      <td>0.042612</td>\n",
              "      <td>-0.061673</td>\n",
              "      <td>-0.693972</td>\n",
              "      <td>0.107687</td>\n",
              "      <td>-2.083804</td>\n",
              "      <td>0.357081</td>\n",
              "    </tr>\n",
              "    <tr>\n",
              "      <th>52249</th>\n",
              "      <td>-0.193628</td>\n",
              "      <td>0.003536</td>\n",
              "      <td>0.468442</td>\n",
              "      <td>0.042612</td>\n",
              "      <td>-0.061673</td>\n",
              "      <td>-0.954430</td>\n",
              "      <td>-0.814733</td>\n",
              "      <td>0.479892</td>\n",
              "      <td>0.357081</td>\n",
              "    </tr>\n",
              "    <tr>\n",
              "      <th>302596</th>\n",
              "      <td>0.154026</td>\n",
              "      <td>0.003536</td>\n",
              "      <td>0.468442</td>\n",
              "      <td>0.042612</td>\n",
              "      <td>-0.061673</td>\n",
              "      <td>-0.856072</td>\n",
              "      <td>-0.436985</td>\n",
              "      <td>0.479892</td>\n",
              "      <td>0.357081</td>\n",
              "    </tr>\n",
              "    <tr>\n",
              "      <th>72277</th>\n",
              "      <td>-0.237279</td>\n",
              "      <td>0.003536</td>\n",
              "      <td>0.468442</td>\n",
              "      <td>0.042612</td>\n",
              "      <td>1.922969</td>\n",
              "      <td>-1.683196</td>\n",
              "      <td>0.954241</td>\n",
              "      <td>0.479892</td>\n",
              "      <td>-2.800484</td>\n",
              "    </tr>\n",
              "    <tr>\n",
              "      <th>39697</th>\n",
              "      <td>-0.790802</td>\n",
              "      <td>0.003536</td>\n",
              "      <td>0.468442</td>\n",
              "      <td>0.042612</td>\n",
              "      <td>-0.061673</td>\n",
              "      <td>0.560018</td>\n",
              "      <td>0.107687</td>\n",
              "      <td>0.479892</td>\n",
              "      <td>0.357081</td>\n",
              "    </tr>\n",
              "    <tr>\n",
              "      <th>16485</th>\n",
              "      <td>1.750204</td>\n",
              "      <td>0.003536</td>\n",
              "      <td>0.468442</td>\n",
              "      <td>0.042612</td>\n",
              "      <td>1.922969</td>\n",
              "      <td>-0.126724</td>\n",
              "      <td>0.107687</td>\n",
              "      <td>0.479892</td>\n",
              "      <td>0.357081</td>\n",
              "    </tr>\n",
              "  </tbody>\n",
              "</table>\n",
              "</div>\n",
              "      <button class=\"colab-df-convert\" onclick=\"convertToInteractive('df-5160aed2-fe80-4a1c-85f9-8b77bbcffe37')\"\n",
              "              title=\"Convert this dataframe to an interactive table.\"\n",
              "              style=\"display:none;\">\n",
              "        \n",
              "  <svg xmlns=\"http://www.w3.org/2000/svg\" height=\"24px\"viewBox=\"0 0 24 24\"\n",
              "       width=\"24px\">\n",
              "    <path d=\"M0 0h24v24H0V0z\" fill=\"none\"/>\n",
              "    <path d=\"M18.56 5.44l.94 2.06.94-2.06 2.06-.94-2.06-.94-.94-2.06-.94 2.06-2.06.94zm-11 1L8.5 8.5l.94-2.06 2.06-.94-2.06-.94L8.5 2.5l-.94 2.06-2.06.94zm10 10l.94 2.06.94-2.06 2.06-.94-2.06-.94-.94-2.06-.94 2.06-2.06.94z\"/><path d=\"M17.41 7.96l-1.37-1.37c-.4-.4-.92-.59-1.43-.59-.52 0-1.04.2-1.43.59L10.3 9.45l-7.72 7.72c-.78.78-.78 2.05 0 2.83L4 21.41c.39.39.9.59 1.41.59.51 0 1.02-.2 1.41-.59l7.78-7.78 2.81-2.81c.8-.78.8-2.07 0-2.86zM5.41 20L4 18.59l7.72-7.72 1.47 1.35L5.41 20z\"/>\n",
              "  </svg>\n",
              "      </button>\n",
              "      \n",
              "  <style>\n",
              "    .colab-df-container {\n",
              "      display:flex;\n",
              "      flex-wrap:wrap;\n",
              "      gap: 12px;\n",
              "    }\n",
              "\n",
              "    .colab-df-convert {\n",
              "      background-color: #E8F0FE;\n",
              "      border: none;\n",
              "      border-radius: 50%;\n",
              "      cursor: pointer;\n",
              "      display: none;\n",
              "      fill: #1967D2;\n",
              "      height: 32px;\n",
              "      padding: 0 0 0 0;\n",
              "      width: 32px;\n",
              "    }\n",
              "\n",
              "    .colab-df-convert:hover {\n",
              "      background-color: #E2EBFA;\n",
              "      box-shadow: 0px 1px 2px rgba(60, 64, 67, 0.3), 0px 1px 3px 1px rgba(60, 64, 67, 0.15);\n",
              "      fill: #174EA6;\n",
              "    }\n",
              "\n",
              "    [theme=dark] .colab-df-convert {\n",
              "      background-color: #3B4455;\n",
              "      fill: #D2E3FC;\n",
              "    }\n",
              "\n",
              "    [theme=dark] .colab-df-convert:hover {\n",
              "      background-color: #434B5C;\n",
              "      box-shadow: 0px 1px 3px 1px rgba(0, 0, 0, 0.15);\n",
              "      filter: drop-shadow(0px 1px 2px rgba(0, 0, 0, 0.3));\n",
              "      fill: #FFFFFF;\n",
              "    }\n",
              "  </style>\n",
              "\n",
              "      <script>\n",
              "        const buttonEl =\n",
              "          document.querySelector('#df-5160aed2-fe80-4a1c-85f9-8b77bbcffe37 button.colab-df-convert');\n",
              "        buttonEl.style.display =\n",
              "          google.colab.kernel.accessAllowed ? 'block' : 'none';\n",
              "\n",
              "        async function convertToInteractive(key) {\n",
              "          const element = document.querySelector('#df-5160aed2-fe80-4a1c-85f9-8b77bbcffe37');\n",
              "          const dataTable =\n",
              "            await google.colab.kernel.invokeFunction('convertToInteractive',\n",
              "                                                     [key], {});\n",
              "          if (!dataTable) return;\n",
              "\n",
              "          const docLinkHtml = 'Like what you see? Visit the ' +\n",
              "            '<a target=\"_blank\" href=https://colab.research.google.com/notebooks/data_table.ipynb>data table notebook</a>'\n",
              "            + ' to learn more about interactive tables.';\n",
              "          element.innerHTML = '';\n",
              "          dataTable['output_type'] = 'display_data';\n",
              "          await google.colab.output.renderOutput(dataTable, element);\n",
              "          const docLink = document.createElement('div');\n",
              "          docLink.innerHTML = docLinkHtml;\n",
              "          element.appendChild(docLink);\n",
              "        }\n",
              "      </script>\n",
              "    </div>\n",
              "  </div>\n",
              "  "
            ]
          },
          "metadata": {},
          "execution_count": 24
        }
      ]
    },
    {
      "cell_type": "code",
      "source": [
        "X_train_embedded = TSNE(n_components=2, learning_rate = 'auto', n_jobs = -1).fit_transform(X_train[:10000])\n",
        "X_train_embedded.shape"
      ],
      "metadata": {
        "colab": {
          "base_uri": "https://localhost:8080/"
        },
        "id": "5YHFacwD4LAG",
        "outputId": "6fcbcdd8-05ed-4ea9-c5f6-e49ee8aa55f7"
      },
      "execution_count": 25,
      "outputs": [
        {
          "output_type": "stream",
          "name": "stderr",
          "text": [
            "/usr/local/lib/python3.8/dist-packages/sklearn/manifold/_t_sne.py:780: FutureWarning: The default initialization in TSNE will change from 'random' to 'pca' in 1.2.\n",
            "  warnings.warn(\n"
          ]
        },
        {
          "output_type": "execute_result",
          "data": {
            "text/plain": [
              "(10000, 2)"
            ]
          },
          "metadata": {},
          "execution_count": 25
        }
      ]
    },
    {
      "cell_type": "code",
      "source": [
        "X_train_embedded[:, 0].shape, X_train_embedded[:, 1].shape, y_train[:10000].shape"
      ],
      "metadata": {
        "colab": {
          "base_uri": "https://localhost:8080/"
        },
        "id": "xAo-wOHa4LCd",
        "outputId": "88b52b16-80d2-45b5-c522-dce47e2ba590"
      },
      "execution_count": 26,
      "outputs": [
        {
          "output_type": "execute_result",
          "data": {
            "text/plain": [
              "((10000,), (10000,), (10000,))"
            ]
          },
          "metadata": {},
          "execution_count": 26
        }
      ]
    },
    {
      "cell_type": "code",
      "source": [
        "fig, ax = plt.subplots()\n",
        "sns.set(rc={'figure.figsize': (15, 8)}, font_scale=1.2, style='darkgrid')\n",
        "sns.scatterplot(x = X_train_embedded[:, 0], y = X_train_embedded[:, 1], hue=y_train[:10000], palette='bright')\n",
        "ax.set_title('TSNE-распределение признаков', fontsize=20)\n",
        "plt.show()"
      ],
      "metadata": {
        "colab": {
          "base_uri": "https://localhost:8080/",
          "height": 286
        },
        "id": "ke_Ro07u4LEx",
        "outputId": "6abaa51f-afac-4a96-ad28-56c2028aa44e"
      },
      "execution_count": 27,
      "outputs": [
        {
          "output_type": "display_data",
          "data": {
            "text/plain": [
              "<Figure size 432x288 with 1 Axes>"
            ],
            "image/png": "[encoded data removed]"
          },
          "metadata": {
            "needs_background": "light"
          }
        }
      ]
    },
    {
      "cell_type": "code",
      "source": [
        "random_state = 1"
      ],
      "metadata": {
        "id": "DDY3Nm5F4LHF"
      },
      "execution_count": 28,
      "outputs": []
    },
    {
      "cell_type": "code",
      "source": [
        "params = dict(\n",
        "    C = [100, 10, 1, 0.1, 0.01, 0.001],\n",
        "    penalty=['l1', 'l2', 'elasticnet'],\n",
        "    solver=['saga'],\n",
        "    multi_class =['auto', 'ovr', 'multinomial'],\n",
        "    l1_ratio=[1]\n",
        ")"
      ],
      "metadata": {
        "id": "7l1G561c4LJR"
      },
      "execution_count": 29,
      "outputs": []
    },
    {
      "cell_type": "code",
      "source": [
        "lr = LogisticRegression()\n",
        "lr = RandomizedSearchCV(lr, params, n_jobs=-1, cv=5, random_state=random_state)\n",
        "lr.fit(X_train, y_train)"
      ],
      "metadata": {
        "colab": {
          "base_uri": "https://localhost:8080/"
        },
        "id": "H54W3DZ84LLu",
        "outputId": "409d0324-f175-49b0-e337-b44273ecd6c1"
      },
      "execution_count": 30,
      "outputs": [
        {
          "output_type": "stream",
          "name": "stderr",
          "text": [
            "/usr/local/lib/python3.8/dist-packages/sklearn/linear_model/_logistic.py:1476: UserWarning: l1_ratio parameter is only used when penalty is 'elasticnet'. Got (penalty=l2)\n",
            "  warnings.warn(\n"
          ]
        },
        {
          "output_type": "execute_result",
          "data": {
            "text/plain": [
              "RandomizedSearchCV(cv=5, estimator=LogisticRegression(), n_jobs=-1,\n",
              "                   param_distributions={'C': [100, 10, 1, 0.1, 0.01, 0.001],\n",
              "                                        'l1_ratio': [1],\n",
              "                                        'multi_class': ['auto', 'ovr',\n",
              "                                                        'multinomial'],\n",
              "                                        'penalty': ['l1', 'l2', 'elasticnet'],\n",
              "                                        'solver': ['saga']},\n",
              "                   random_state=1)"
            ]
          },
          "metadata": {},
          "execution_count": 30
        }
      ]
    },
    {
      "cell_type": "code",
      "source": [
        "best_params = lr.best_params_\n",
        "best_params"
      ],
      "metadata": {
        "colab": {
          "base_uri": "https://localhost:8080/"
        },
        "id": "w21nXJSh4LOb",
        "outputId": "bba4388c-4a55-403a-82ee-e03521fc38fe"
      },
      "execution_count": 31,
      "outputs": [
        {
          "output_type": "execute_result",
          "data": {
            "text/plain": [
              "{'solver': 'saga',\n",
              " 'penalty': 'l2',\n",
              " 'multi_class': 'ovr',\n",
              " 'l1_ratio': 1,\n",
              " 'C': 0.1}"
            ]
          },
          "metadata": {},
          "execution_count": 31
        }
      ]
    },
    {
      "cell_type": "code",
      "source": [
        "for X, y, label in zip([X_train, X_valid], [y_train, y_valid], ['train', 'test']):\n",
        "  pred = lr.predict(X)\n",
        "  f1 = f1_score(y, lr.predict(X), average='micro').round(3)\n",
        "  \n",
        "  print(f'Acc {label}={accuracy_score(y, pred):.3f}')  \n",
        "  print(f'F1 {label}={f1}')\n",
        "  print(f'ROC_AUC {label}={roc_auc_score(y, lr.predict_proba(X)[:, 1]):.3f}\\n')"
      ],
      "metadata": {
        "colab": {
          "base_uri": "https://localhost:8080/"
        },
        "id": "hbJY4wyl4YP2",
        "outputId": "dbc62ce8-c3d4-4dc4-b43a-415c4a1150cb"
      },
      "execution_count": 32,
      "outputs": [
        {
          "output_type": "stream",
          "name": "stdout",
          "text": [
            "Acc train=0.918\n",
            "F1 train=0.918\n",
            "ROC_AUC train=0.707\n",
            "\n",
            "Acc test=0.918\n",
            "F1 test=0.918\n",
            "ROC_AUC test=0.720\n",
            "\n"
          ]
        }
      ]
    },
    {
      "cell_type": "code",
      "source": [
        "print(classification_report(y_train, lr.predict(X_train)))"
      ],
      "metadata": {
        "colab": {
          "base_uri": "https://localhost:8080/"
        },
        "id": "vAzlzl-14YSa",
        "outputId": "d1fca050-9e95-4c34-dc03-b0567fb70a49"
      },
      "execution_count": 33,
      "outputs": [
        {
          "output_type": "stream",
          "name": "stdout",
          "text": [
            "              precision    recall  f1-score   support\n",
            "\n",
            "           0       0.92      1.00      0.96     73431\n",
            "           1       0.58      0.00      0.00      6569\n",
            "\n",
            "    accuracy                           0.92     80000\n",
            "   macro avg       0.75      0.50      0.48     80000\n",
            "weighted avg       0.89      0.92      0.88     80000\n",
            "\n"
          ]
        }
      ]
    },
    {
      "cell_type": "code",
      "source": [
        "print(classification_report(y_valid, lr.predict(X_valid)))"
      ],
      "metadata": {
        "colab": {
          "base_uri": "https://localhost:8080/"
        },
        "id": "Fbqzrknn4YU_",
        "outputId": "49fcf85f-99fa-4095-ca83-dd95fc108ceb"
      },
      "execution_count": 34,
      "outputs": [
        {
          "output_type": "stream",
          "name": "stdout",
          "text": [
            "              precision    recall  f1-score   support\n",
            "\n",
            "           0       0.92      1.00      0.96     18358\n",
            "           1       1.00      0.00      0.00      1642\n",
            "\n",
            "    accuracy                           0.92     20000\n",
            "   macro avg       0.96      0.50      0.48     20000\n",
            "weighted avg       0.92      0.92      0.88     20000\n",
            "\n"
          ]
        }
      ]
    },
    {
      "cell_type": "code",
      "source": [
        "params = dict(\n",
        "    n_estimators = range(5, 150, 5),\n",
        "    min_samples_split = range(1, 20, 2),\n",
        "    min_samples_leaf = range(1, 20, 2),\n",
        "    max_samples = np.linspace(0, 1, 20)\n",
        ")"
      ],
      "metadata": {
        "id": "doDnBqzB4YXj"
      },
      "execution_count": 35,
      "outputs": []
    },
    {
      "cell_type": "code",
      "source": [
        "rf = RandomForestClassifier()\n",
        "rf = RandomizedSearchCV(rf, params, n_jobs=-1, cv=5, random_state=random_state)\n",
        "rf.fit(X_train, y_train)"
      ],
      "metadata": {
        "colab": {
          "base_uri": "https://localhost:8080/"
        },
        "id": "cemizs254YaI",
        "outputId": "055b74bd-de58-4b19-887d-329aa1275db5"
      },
      "execution_count": 36,
      "outputs": [
        {
          "output_type": "execute_result",
          "data": {
            "text/plain": [
              "RandomizedSearchCV(cv=5, estimator=RandomForestClassifier(), n_jobs=-1,\n",
              "                   param_distributions={'max_samples': array([0.        , 0.05263158, 0.10526316, 0.15789474, 0.21052632,\n",
              "       0.26315789, 0.31578947, 0.36842105, 0.42105263, 0.47368421,\n",
              "       0.52631579, 0.57894737, 0.63157895, 0.68421053, 0.73684211,\n",
              "       0.78947368, 0.84210526, 0.89473684, 0.94736842, 1.        ]),\n",
              "                                        'min_samples_leaf': range(1, 20, 2),\n",
              "                                        'min_samples_split': range(1, 20, 2),\n",
              "                                        'n_estimators': range(5, 150, 5)},\n",
              "                   random_state=1)"
            ]
          },
          "metadata": {},
          "execution_count": 36
        }
      ]
    },
    {
      "cell_type": "code",
      "source": [
        "best_params = rf.best_params_\n",
        "best_params"
      ],
      "metadata": {
        "colab": {
          "base_uri": "https://localhost:8080/"
        },
        "id": "b5O1Tzuf4Yc5",
        "outputId": "e9981b5d-3dc5-4bcf-a6bc-f2c439092d44"
      },
      "execution_count": 37,
      "outputs": [
        {
          "output_type": "execute_result",
          "data": {
            "text/plain": [
              "{'n_estimators': 110,\n",
              " 'min_samples_split': 19,\n",
              " 'min_samples_leaf': 3,\n",
              " 'max_samples': 0.21052631578947367}"
            ]
          },
          "metadata": {},
          "execution_count": 37
        }
      ]
    },
    {
      "cell_type": "code",
      "source": [
        "for X, y, label in zip([X_train, X_valid], [y_train, y_valid], ['train', 'test']):\n",
        "  pred = rf.predict(X)\n",
        "  f1 = f1_score(y, rf.predict(X), average='micro').round(3)\n",
        "  \n",
        "  print(f'Acc {label}={accuracy_score(y, pred):.3f}')  \n",
        "  print(f'F1 {label}={f1}')\n",
        "  print(f'ROC_AUC {label}={roc_auc_score(y, rf.predict_proba(X)[:, 1]):.3f}\\n')"
      ],
      "metadata": {
        "colab": {
          "base_uri": "https://localhost:8080/"
        },
        "id": "SJb3rYy34YfF",
        "outputId": "97c7cc5d-12b3-4c7a-af78-b3d378592e9a"
      },
      "execution_count": 38,
      "outputs": [
        {
          "output_type": "stream",
          "name": "stdout",
          "text": [
            "Acc train=0.918\n",
            "F1 train=0.918\n",
            "ROC_AUC train=0.859\n",
            "\n",
            "Acc test=0.918\n",
            "F1 test=0.918\n",
            "ROC_AUC test=0.706\n",
            "\n"
          ]
        }
      ]
    },
    {
      "cell_type": "code",
      "source": [
        "print(classification_report(y_train, rf.predict(X_train)))"
      ],
      "metadata": {
        "colab": {
          "base_uri": "https://localhost:8080/"
        },
        "id": "oRhYtKO74n27",
        "outputId": "20e956ce-19f2-4a04-85ae-2110313754bf"
      },
      "execution_count": 39,
      "outputs": [
        {
          "output_type": "stream",
          "name": "stdout",
          "text": [
            "              precision    recall  f1-score   support\n",
            "\n",
            "           0       0.92      1.00      0.96     73431\n",
            "           1       0.79      0.01      0.02      6569\n",
            "\n",
            "    accuracy                           0.92     80000\n",
            "   macro avg       0.85      0.50      0.49     80000\n",
            "weighted avg       0.91      0.92      0.88     80000\n",
            "\n"
          ]
        }
      ]
    },
    {
      "cell_type": "code",
      "source": [
        "print(classification_report(y_valid, rf.predict(X_valid)))"
      ],
      "metadata": {
        "colab": {
          "base_uri": "https://localhost:8080/"
        },
        "id": "I6oNWzz34n5q",
        "outputId": "1d7bff23-6ebb-4233-9102-d3ec6b386de0"
      },
      "execution_count": 40,
      "outputs": [
        {
          "output_type": "stream",
          "name": "stdout",
          "text": [
            "              precision    recall  f1-score   support\n",
            "\n",
            "           0       0.92      1.00      0.96     18358\n",
            "           1       0.65      0.01      0.01      1642\n",
            "\n",
            "    accuracy                           0.92     20000\n",
            "   macro avg       0.78      0.50      0.49     20000\n",
            "weighted avg       0.90      0.92      0.88     20000\n",
            "\n"
          ]
        }
      ]
    },
    {
      "cell_type": "code",
      "source": [
        "params = dict(\n",
        "    max_depth = [3, None],\n",
        "    max_features = range(1, 9, 1),\n",
        "    min_samples_leaf = range(1, 9, 1),\n",
        "    criterion = [\"gini\", \"entropy\"]\n",
        ")"
      ],
      "metadata": {
        "id": "LZqcUmNQ4n8s"
      },
      "execution_count": 41,
      "outputs": []
    },
    {
      "cell_type": "code",
      "source": [
        "dt = DecisionTreeClassifier()\n",
        "dt = RandomizedSearchCV(dt, params, n_jobs=-1, cv=5, random_state=random_state)\n",
        "dt.fit(X_train, y_train)"
      ],
      "metadata": {
        "colab": {
          "base_uri": "https://localhost:8080/"
        },
        "id": "8svtZY-q4sJh",
        "outputId": "1ef77a18-f586-4d99-ac62-dbee1a3add33"
      },
      "execution_count": 42,
      "outputs": [
        {
          "output_type": "execute_result",
          "data": {
            "text/plain": [
              "RandomizedSearchCV(cv=5, estimator=DecisionTreeClassifier(), n_jobs=-1,\n",
              "                   param_distributions={'criterion': ['gini', 'entropy'],\n",
              "                                        'max_depth': [3, None],\n",
              "                                        'max_features': range(1, 9),\n",
              "                                        'min_samples_leaf': range(1, 9)},\n",
              "                   random_state=1)"
            ]
          },
          "metadata": {},
          "execution_count": 42
        }
      ]
    },
    {
      "cell_type": "code",
      "source": [
        "best_params = dt.best_params_\n",
        "best_params"
      ],
      "metadata": {
        "colab": {
          "base_uri": "https://localhost:8080/"
        },
        "id": "jd1SNmvr4sMk",
        "outputId": "0b3aefaf-7ab8-4d70-9f4c-ed6d2a888974"
      },
      "execution_count": 43,
      "outputs": [
        {
          "output_type": "execute_result",
          "data": {
            "text/plain": [
              "{'min_samples_leaf': 3, 'max_features': 5, 'max_depth': 3, 'criterion': 'gini'}"
            ]
          },
          "metadata": {},
          "execution_count": 43
        }
      ]
    },
    {
      "cell_type": "code",
      "source": [
        "for X, y, label in zip([X_train, X_valid], [y_train, y_valid], ['train', 'test']):\n",
        "  pred = dt.predict(X)\n",
        "  f1 = f1_score(y, dt.predict(X), average='micro').round(3)\n",
        "  \n",
        "  print(f'Acc {label}={accuracy_score(y, pred):.3f}')  \n",
        "  print(f'F1 {label}={f1}')\n",
        "  print(f'ROC_AUC {label}={roc_auc_score(y, dt.predict_proba(X)[:, 1]):.3f}\\n')"
      ],
      "metadata": {
        "colab": {
          "base_uri": "https://localhost:8080/"
        },
        "id": "LpQJp24p4sPN",
        "outputId": "b4dee2fc-c338-47d4-aaf8-fe623d390692"
      },
      "execution_count": 44,
      "outputs": [
        {
          "output_type": "stream",
          "name": "stdout",
          "text": [
            "Acc train=0.918\n",
            "F1 train=0.918\n",
            "ROC_AUC train=0.660\n",
            "\n",
            "Acc test=0.918\n",
            "F1 test=0.918\n",
            "ROC_AUC test=0.658\n",
            "\n"
          ]
        }
      ]
    },
    {
      "cell_type": "code",
      "source": [
        "print(classification_report(y_train, dt.predict(X_train)))"
      ],
      "metadata": {
        "colab": {
          "base_uri": "https://localhost:8080/"
        },
        "id": "gpFQjNWL4sSY",
        "outputId": "5d809730-1ba6-43a7-d3e2-0cc41fc96b7c"
      },
      "execution_count": 45,
      "outputs": [
        {
          "output_type": "stream",
          "name": "stdout",
          "text": [
            "              precision    recall  f1-score   support\n",
            "\n",
            "           0       0.92      1.00      0.96     73431\n",
            "           1       0.00      0.00      0.00      6569\n",
            "\n",
            "    accuracy                           0.92     80000\n",
            "   macro avg       0.46      0.50      0.48     80000\n",
            "weighted avg       0.84      0.92      0.88     80000\n",
            "\n"
          ]
        },
        {
          "output_type": "stream",
          "name": "stderr",
          "text": [
            "/usr/local/lib/python3.8/dist-packages/sklearn/metrics/_classification.py:1318: UndefinedMetricWarning: Precision and F-score are ill-defined and being set to 0.0 in labels with no predicted samples. Use `zero_division` parameter to control this behavior.\n",
            "  _warn_prf(average, modifier, msg_start, len(result))\n",
            "/usr/local/lib/python3.8/dist-packages/sklearn/metrics/_classification.py:1318: UndefinedMetricWarning: Precision and F-score are ill-defined and being set to 0.0 in labels with no predicted samples. Use `zero_division` parameter to control this behavior.\n",
            "  _warn_prf(average, modifier, msg_start, len(result))\n",
            "/usr/local/lib/python3.8/dist-packages/sklearn/metrics/_classification.py:1318: UndefinedMetricWarning: Precision and F-score are ill-defined and being set to 0.0 in labels with no predicted samples. Use `zero_division` parameter to control this behavior.\n",
            "  _warn_prf(average, modifier, msg_start, len(result))\n"
          ]
        }
      ]
    },
    {
      "cell_type": "code",
      "source": [
        "print(classification_report(y_valid, dt.predict(X_valid)))"
      ],
      "metadata": {
        "colab": {
          "base_uri": "https://localhost:8080/"
        },
        "id": "a9uXJq6J4zRR",
        "outputId": "95f20348-5106-400f-8f54-98ccd3c9e79f"
      },
      "execution_count": 46,
      "outputs": [
        {
          "output_type": "stream",
          "name": "stdout",
          "text": [
            "              precision    recall  f1-score   support\n",
            "\n",
            "           0       0.92      1.00      0.96     18358\n",
            "           1       0.00      0.00      0.00      1642\n",
            "\n",
            "    accuracy                           0.92     20000\n",
            "   macro avg       0.46      0.50      0.48     20000\n",
            "weighted avg       0.84      0.92      0.88     20000\n",
            "\n"
          ]
        },
        {
          "output_type": "stream",
          "name": "stderr",
          "text": [
            "/usr/local/lib/python3.8/dist-packages/sklearn/metrics/_classification.py:1318: UndefinedMetricWarning: Precision and F-score are ill-defined and being set to 0.0 in labels with no predicted samples. Use `zero_division` parameter to control this behavior.\n",
            "  _warn_prf(average, modifier, msg_start, len(result))\n",
            "/usr/local/lib/python3.8/dist-packages/sklearn/metrics/_classification.py:1318: UndefinedMetricWarning: Precision and F-score are ill-defined and being set to 0.0 in labels with no predicted samples. Use `zero_division` parameter to control this behavior.\n",
            "  _warn_prf(average, modifier, msg_start, len(result))\n",
            "/usr/local/lib/python3.8/dist-packages/sklearn/metrics/_classification.py:1318: UndefinedMetricWarning: Precision and F-score are ill-defined and being set to 0.0 in labels with no predicted samples. Use `zero_division` parameter to control this behavior.\n",
            "  _warn_prf(average, modifier, msg_start, len(result))\n"
          ]
        }
      ]
    }
  ]
}